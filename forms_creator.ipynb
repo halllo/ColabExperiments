{
  "nbformat": 4,
  "nbformat_minor": 0,
  "metadata": {
    "colab": {
      "provenance": []
    },
    "kernelspec": {
      "name": "python3",
      "display_name": "Python 3"
    },
    "language_info": {
      "name": "python"
    }
  },
  "cells": [
    {
      "cell_type": "markdown",
      "source": [
        "# Manuels Forms Creator\n",
        "\n",
        "This notebook uses OAuth to access Google Forms API. While the client_secret is part of this notebook, the client configuration needs auhtenticating google user accounts to be allow-listed before use."
      ],
      "metadata": {
        "id": "gJ3mqlHEIbDn"
      }
    },
    {
      "cell_type": "markdown",
      "source": [
        "## Authenticate"
      ],
      "metadata": {
        "id": "yUoMwR9WKUKu"
      }
    },
    {
      "cell_type": "markdown",
      "source": [
        "Allow this notebook to access the google account of the user."
      ],
      "metadata": {
        "id": "PpwSoa9hTzlv"
      }
    },
    {
      "cell_type": "code",
      "execution_count": null,
      "metadata": {
        "id": "Bp7GU0HS7syi"
      },
      "outputs": [],
      "source": [
        "from datetime import datetime\n",
        "from google.colab import auth\n",
        "auth.authenticate_user()"
      ]
    },
    {
      "cell_type": "markdown",
      "source": [
        "For google sheets we can use the colab credentials."
      ],
      "metadata": {
        "id": "4HGJmmDuV1n7"
      }
    },
    {
      "cell_type": "code",
      "source": [
        "import gspread\n",
        "from google.auth import default\n",
        "creds, _ = default()\n",
        "\n",
        "gc = gspread.authorize(creds)"
      ],
      "metadata": {
        "id": "fcOV12IQ74PD"
      },
      "execution_count": null,
      "outputs": []
    },
    {
      "cell_type": "markdown",
      "source": [
        "For the forms API we need to use additional credentials via an OAuth flow."
      ],
      "metadata": {
        "id": "cIepGIhSVsc7"
      }
    },
    {
      "cell_type": "code",
      "source": [
        "from googleapiclient.discovery import build"
      ],
      "metadata": {
        "id": "YLACTD-T8Gjc"
      },
      "execution_count": null,
      "outputs": []
    },
    {
      "cell_type": "code",
      "source": [
        "%%writefile client_secret.json\n",
        "{\"installed\":{\"client_id\":\"...\"}}"
      ],
      "metadata": {
        "id": "IowfmG7y8P0a"
      },
      "execution_count": null,
      "outputs": []
    },
    {
      "cell_type": "code",
      "source": [
        "import google.auth.transport.requests\n",
        "from google_auth_oauthlib.flow import Flow\n",
        "\n",
        "flow = Flow.from_client_secrets_file(\n",
        "    'client_secret.json',\n",
        "    scopes=[\n",
        "        'https://www.googleapis.com/auth/forms.body',\n",
        "        'https://www.googleapis.com/auth/forms.body.readonly',\n",
        "        'https://www.googleapis.com/auth/drive.metadata.readonly'\n",
        "    ],\n",
        "    redirect_uri='urn:ietf:wg:oauth:2.0:oob'\n",
        ")"
      ],
      "metadata": {
        "id": "5Gmi7nDV_UkL"
      },
      "execution_count": null,
      "outputs": []
    },
    {
      "cell_type": "markdown",
      "source": [
        "The next cell performs the OAuth login. It generates a special authorization URL for the user to follow. The user has to grant the application access and receives an authorization code. This code has to be pasted here, into the input field. With this authorization code the application can acquire the required credentials to access the forms API on the users behalf.\n",
        "\n",
        "If the OAuth delegation does not work, please contact Manuel. Since the OAuth client is an unofficial client that has not gone through google review, it requires all users to be allow-listed in advance."
      ],
      "metadata": {
        "id": "FYkSo5y8S4E6"
      }
    },
    {
      "cell_type": "code",
      "source": [
        "auth_url, _ = flow.authorization_url(prompt='consent')\n",
        "print(\"Go to this URL:\\n\", auth_url)\n",
        "\n",
        "# Paste the code you get after authorizing:\n",
        "code = input('Enter the authorization code: ')\n",
        "flow.fetch_token(code=code)\n",
        "\n",
        "creds = flow.credentials\n",
        "print(creds.granted_scopes)"
      ],
      "metadata": {
        "id": "F508uqovSwiA"
      },
      "execution_count": null,
      "outputs": []
    },
    {
      "cell_type": "markdown",
      "source": [
        "Now that we have the OAuth credentials, we build new clients for forms and drive API."
      ],
      "metadata": {
        "id": "hNeGo07pWDH5"
      }
    },
    {
      "cell_type": "code",
      "source": [
        "drive_service = build('drive', 'v3', credentials=creds)\n",
        "forms_service = build('forms', 'v1', credentials=creds)"
      ],
      "metadata": {
        "id": "AyxE0JocIoZm"
      },
      "execution_count": null,
      "outputs": []
    },
    {
      "cell_type": "markdown",
      "source": [
        "## List all Forms\n",
        "\n",
        "Lets see what forms we have."
      ],
      "metadata": {
        "id": "bPAbb4V9IUZp"
      }
    },
    {
      "cell_type": "code",
      "source": [
        "query = \"mimeType='application/vnd.google-apps.form'\"\n",
        "\n",
        "results = drive_service.files().list(q=query, fields=\"files(id, name)\").execute()\n",
        "forms = results.get('files', [])\n",
        "\n",
        "if not forms:\n",
        "    print(\"No forms found.\")\n",
        "else:\n",
        "    print(\"Forms:\")\n",
        "    for form in forms:\n",
        "        print(f\"Name: {form['name']}, ID: {form['id']}\")\n"
      ],
      "metadata": {
        "id": "CALQEpRqEP_R"
      },
      "execution_count": null,
      "outputs": []
    },
    {
      "cell_type": "markdown",
      "source": [
        "## Get Form details\n",
        "\n",
        "If we know the `form_id` we can load it and view its details."
      ],
      "metadata": {
        "id": "njS6uQGJI1Ay"
      }
    },
    {
      "cell_type": "code",
      "source": [
        "form_id = '1hiJQ_4eWMeY3jup57p1rVZ8Na0XU8I8nCV7sCTrjShB' #@param {type: \"string\"}\n",
        "\n",
        "try:\n",
        "  form_details = forms_service.forms().get(formId=form_id).execute()\n",
        "  print(form_details)\n",
        "  print(\"Form Title:\", form_details.get('info', {}).get('title'))\n",
        "  print(\"Form ID:\", form_details.get('formId'))\n",
        "  print(\"Items:\")\n",
        "  for item in form_details.get('items', []):\n",
        "    print(f\"- {item.get('title', 'Untitled')} (ID: {item.get('itemId')})\")\n",
        "\n",
        "except Exception as err:\n",
        "  print(f\"Error: {err}\")"
      ],
      "metadata": {
        "id": "0v94MRk1I0R9"
      },
      "execution_count": null,
      "outputs": []
    },
    {
      "cell_type": "markdown",
      "source": [
        "## Create new Form\n",
        "\n",
        "We generate a new form via the API. In the future we might reuse an existing form."
      ],
      "metadata": {
        "id": "AQJd4nzXIXR0"
      }
    },
    {
      "cell_type": "code",
      "source": [
        "now = datetime.now()\n",
        "form_metadata = {\n",
        "    \"info\": {\n",
        "        \"title\": f\"Sample Form from Colab {now:%Y%m%d%H%M%S}\",\n",
        "        \"documentTitle\": f\"Colab Google Form {now:%Y%m%d%H%M%S}\"\n",
        "    }\n",
        "}\n",
        "\n",
        "new_form = forms_service.forms().create(body=form_metadata).execute()\n",
        "\n",
        "form_id = new_form['formId']\n",
        "print(\"Form created:\", new_form['responderUri'], \"as\", form_id)"
      ],
      "metadata": {
        "id": "0odCOtM381oJ"
      },
      "execution_count": null,
      "outputs": []
    },
    {
      "cell_type": "markdown",
      "source": [
        "## Add options to Form\n",
        "\n",
        "We add a new question to the form. The question has a few options. Each option can only have a single image. To display more images in the future, we might need to collage multiple images together as one. But then we cannot use the `sourceUri` property anymore."
      ],
      "metadata": {
        "id": "ozujoSCJKxSI"
      }
    },
    {
      "cell_type": "code",
      "source": [
        "form_details = forms_service.forms().get(formId=form_id).execute()\n",
        "form_items = form_details.get('items', [])\n",
        "\n",
        "question_item = {\n",
        "    \"createItem\": {\n",
        "        \"item\": {\n",
        "            \"title\": \"Who is your favorite celebrity?\",\n",
        "            \"questionItem\": {\n",
        "                \"question\": {\n",
        "                    \"required\": True,\n",
        "                    \"choiceQuestion\": {\n",
        "                        \"type\": \"RADIO\",\n",
        "                        \"options\": [\n",
        "                            {\n",
        "                                \"value\": \"Angourie Rice\",\n",
        "                                \"image\": {\n",
        "                                    \"sourceUri\": \"https://tse1.mm.bing.net/th?id=OIP.nesaW00tFv6kIWc9NuLMOAHaLH&pid=Api&P=0&w=300&h=300\"\n",
        "                                }\n",
        "                            },\n",
        "                            {\n",
        "                                \"value\": \"Emma Watson\",\n",
        "                                \"image\": {\n",
        "                                    \"sourceUri\": \"https://tse4.mm.bing.net/th?id=OIP.HP9zdd9h6pobkEXAHhcY-gHaJZ&pid=Api&P=0&w=300&h=300\"\n",
        "                                }\n",
        "                            },\n",
        "                            {\n",
        "                                \"value\": \"Jenna Ortega\",\n",
        "                                \"image\": {\n",
        "                                    \"sourceUri\": \"https://tse1.mm.bing.net/th?id=OIP.dde1du-cxWb3Whspz5ibdQHaLG&pid=Api&P=0&w=300&h=300\"\n",
        "                                }\n",
        "                            },\n",
        "                            {\n",
        "                                \"value\": \"Millie Bobby Brown\",\n",
        "                                \"image\": {\n",
        "                                    \"sourceUri\": \"https://tse2.mm.bing.net/th?id=OIP.QxAx1wmOuvGGRgwy2M7dmgHaJ4&pid=Api&P=0&w=300&h=300\"\n",
        "                                }\n",
        "                            },\n",
        "                        ],\n",
        "                    }\n",
        "                }\n",
        "            }\n",
        "        },\n",
        "        \"location\": {\n",
        "            \"index\": len(form_items)\n",
        "        }\n",
        "    }\n",
        "}\n",
        "\n",
        "request = {\"requests\": [question_item]}\n",
        "result = forms_service.forms().batchUpdate(formId=form_id, body=request).execute()\n",
        "print(f\"Added question: {result}\")\n"
      ],
      "metadata": {
        "id": "8ZK-s6InKwsx"
      },
      "execution_count": null,
      "outputs": []
    }
  ]
}